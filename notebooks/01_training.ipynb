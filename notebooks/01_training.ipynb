{
 "cells": [
  {
   "cell_type": "markdown",
   "id": "2ed81166",
   "metadata": {},
   "source": [
    "# Carga y procesamiento de datos"
   ]
  },
  {
   "cell_type": "code",
   "execution_count": null,
   "id": "80ccb5a2",
   "metadata": {
    "vscode": {
     "languageId": "plaintext"
    }
   },
   "outputs": [],
   "source": [
    "import sys\n",
    "import os\n",
    "import gensim.downloader as api\n",
    "from gensim.models import KeyedVectors"
   ]
  },
  {
   "cell_type": "code",
   "execution_count": null,
   "id": "9877f4c1",
   "metadata": {
    "vscode": {
     "languageId": "plaintext"
    }
   },
   "outputs": [],
   "source": [
    "project_path = os.path.abspath(os.path.join(os.getcwd(), '..'))  # Sube un nivel desde /notebooks\n",
    "sys.path.append(project_path)"
   ]
  },
  {
   "cell_type": "code",
   "execution_count": null,
   "id": "8df8ac7f",
   "metadata": {
    "vscode": {
     "languageId": "plaintext"
    }
   },
   "outputs": [],
   "source": [
    "from src.preprocess import load_dataset, vectorize_reviews, load_embeddings\n",
    "from src.model import FFNClassifier\n",
    "from src.train import train_model"
   ]
  },
  {
   "cell_type": "code",
   "execution_count": null,
   "id": "80b2077d",
   "metadata": {
    "vscode": {
     "languageId": "plaintext"
    }
   },
   "outputs": [],
   "source": [
    "X_train, X_test, y_train, y_test = load_dataset(\"../data/reviews.csv\")\n",
    "w2v = w2v = api.load(\"glove-wiki-gigaword-100\") \n",
    "X_train_vec = vectorize_reviews(X_train, w2v)\n",
    "X_test_vec = vectorize_reviews(X_test, w2v)"
   ]
  },
  {
   "cell_type": "code",
   "execution_count": null,
   "id": "da23b6ea",
   "metadata": {
    "vscode": {
     "languageId": "plaintext"
    }
   },
   "outputs": [],
   "source": [
    "# Crear y entrenar modelo\n",
    "model = FFNClassifier(input_dim=100)\n",
    "train_model(model, X_train_vec, y_train, X_test_vec, y_test)"
   ]
  },
  {
   "cell_type": "code",
   "execution_count": null,
   "id": "aef69f07",
   "metadata": {
    "vscode": {
     "languageId": "plaintext"
    }
   },
   "outputs": [],
   "source": [
    "# Visualización (opcional)\n",
    "from sklearn.metrics import confusion_matrix, ConfusionMatrixDisplay\n",
    "import matplotlib.pyplot as plt\n",
    "\n",
    "# Predecir y mostrar matriz de confusión\n",
    "import torch\n",
    "with torch.no_grad():\n",
    "    preds = model(torch.tensor(X_test_vec, dtype=torch.float32)).round().squeeze()\n",
    "\n",
    "cm = confusion_matrix(y_test, preds.numpy())\n",
    "disp = ConfusionMatrixDisplay(cm)\n",
    "disp.plot()\n",
    "plt.title(\"Matriz de Confusión\")\n",
    "plt.show()\n"
   ]
  }
 ],
 "metadata": {
  "language_info": {
   "name": "python"
  }
 },
 "nbformat": 4,
 "nbformat_minor": 5
}
